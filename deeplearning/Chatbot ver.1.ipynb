{
 "cells": [
  {
   "cell_type": "code",
   "execution_count": 28,
   "metadata": {},
   "outputs": [],
   "source": [
    "from pymongo import MongoClient\n",
    "from datetime import datetime\n",
    "\n",
    "import threading\n",
    "\n",
    "conn = MongoClient('127.0.0.1')\n",
    "db = conn.test1\n",
    "collec = db.collect\n",
    "\n",
    "def chatbot():\n",
    "    sidoName=['서울', '부산', '대구', '인천', '광주', '대전', '울산', '경기', '강원', '충북', '충남', '전북', '전남', '경북', '경남', '제주', '세종']\n",
    "    while True:\n",
    "        print(\"어느 지역의 미세먼지가 알고 싶으세요? 종료 exit\")        \n",
    "        answer=input(\"\")\n",
    "        now = datetime.now()\n",
    "        nowDate = now.strftime('%Y-%m-%d %H')\n",
    "        nowDate= nowDate+\":00\"\n",
    "        if(answer.find(\"exit\") != -1):\n",
    "            break\n",
    "        for sidolist in sidoName:\n",
    "            if answer.find(sidolist) != -1:\n",
    "                data=list(collec.find({\"datatime\":nowDate,\"sidoname\":sidolist},{\"_id\":False,\"sidoname\":False,\"datatime\":False,\"pm25vale\":False}))\n",
    "                #print(data)\n",
    "                for city in data:\n",
    "                    if answer.find(city['cityname']) != -1:\n",
    "                        #print(city['cityname'])\n",
    "                        pm25list=list(collec.find({\"datatime\":nowDate,\"sidoname\":sidolist,\"cityname\":city['cityname']},{\"_id\":False,\"sidoname\":False,\"datatime\":False}))\n",
    "                        pm25dict=dict(pm25list[0])\n",
    "                        print(city['cityname']+'의 현재 미세먼지는 '+pm25dict['pm25vale']+'입니다.\\n\\n\\n')\n",
    "                        break\n",
    "                break"
   ]
  },
  {
   "cell_type": "code",
   "execution_count": 29,
   "metadata": {},
   "outputs": [
    {
     "name": "stdout",
     "output_type": "stream",
     "text": [
      "어느 지역의 미세먼지가 알고 싶으세요? 종료 exit\n",
      "서울 강서구 미세먼지요~\n",
      "어느 지역의 미세먼지가 알고 싶으세요? 종료 exit\n",
      "exit\n"
     ]
    }
   ],
   "source": [
    "chatbot()"
   ]
  },
  {
   "cell_type": "code",
   "execution_count": null,
   "metadata": {},
   "outputs": [],
   "source": [
    "서울 강서구 미세먼지 알려줘\n",
    "부산 영도구 미세먼지 "
   ]
  },
  {
   "cell_type": "code",
   "execution_count": null,
   "metadata": {},
   "outputs": [],
   "source": []
  }
 ],
 "metadata": {
  "kernelspec": {
   "display_name": "Python 3",
   "language": "python",
   "name": "python3"
  },
  "language_info": {
   "codemirror_mode": {
    "name": "ipython",
    "version": 3
   },
   "file_extension": ".py",
   "mimetype": "text/x-python",
   "name": "python",
   "nbconvert_exporter": "python",
   "pygments_lexer": "ipython3",
   "version": "3.6.5"
  }
 },
 "nbformat": 4,
 "nbformat_minor": 2
}
